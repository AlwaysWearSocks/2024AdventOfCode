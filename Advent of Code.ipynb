{
 "cells": [
  {
   "cell_type": "markdown",
   "id": "f980e07c-001d-4648-a3fc-d1e9380d994a",
   "metadata": {},
   "source": [
    "## Day One (Part 1)\n",
    "\n",
    "Read in the raw data, and then calculate the distance between the two sorted lists"
   ]
  },
  {
   "cell_type": "code",
   "execution_count": 3,
   "id": "a10fd2d2-a3e3-4635-9aa8-f31e9534deeb",
   "metadata": {},
   "outputs": [
    {
     "data": {
      "text/plain": [
       "2756096"
      ]
     },
     "execution_count": 3,
     "metadata": {},
     "output_type": "execute_result"
    }
   ],
   "source": [
    "file_path = 'C:\\\\Users\\\\jackb\\\\OneDrive\\\\Documents\\\\Python Scripts\\\\Advent of Code\\\\Raw Data\\\\AdventDayOneRaw.txt'\n",
    "\n",
    "data = list(map(int, open(file_path).read().split()))\n",
    "\n",
    "locationOne = data[0::2]\n",
    "locationTwo = data[1::2]\n",
    "\n",
    "locationOne.sort()\n",
    "locationTwo.sort()\n",
    "totalDist = 0\n",
    "for i in range(len(locationOne)):\n",
    "    totalDist += abs(locationOne[i] - locationTwo[i])\n",
    "\n",
    "totalDist"
   ]
  },
  {
   "cell_type": "markdown",
   "id": "51183695-a509-47b3-a0c9-845589e8e19a",
   "metadata": {},
   "source": [
    "## Day One (Part 2)\n",
    "\n",
    "Calculate a similarity score, where the numbers in the left list are multiplied by their occurence in the right list"
   ]
  },
  {
   "cell_type": "code",
   "execution_count": 91,
   "id": "3d822ba5-9c4a-4a2b-ab87-a7fec6dded7e",
   "metadata": {},
   "outputs": [
    {
     "data": {
      "text/plain": [
       "23117829"
      ]
     },
     "execution_count": 91,
     "metadata": {},
     "output_type": "execute_result"
    }
   ],
   "source": [
    "locDict = {}\n",
    "\n",
    "# Parse the second list and add to a dictionary for future lookup\n",
    "for loc in locationTwo:\n",
    "    if loc in locDict:\n",
    "        locDict[loc] += 1\n",
    "    else:\n",
    "        locDict[loc] = 1\n",
    "\n",
    "# Parse the first list and accumulate a similarity score using the dictionary\n",
    "similarityScore = 0\n",
    "for loc in locationOne:\n",
    "    if loc in locDict:\n",
    "        similarityScore += loc * locDict[loc]\n",
    "    else:\n",
    "        similarityScore += 0\n",
    "\n",
    "similarityScore"
   ]
  },
  {
   "cell_type": "markdown",
   "id": "fb40e6d3-c315-4340-8bf3-0cd7e5975f71",
   "metadata": {},
   "source": [
    "## Day Two (Part 1)\n",
    "\n",
    "Read in the raw data and check if each row is safe.\n",
    "A safe row is one that is entirely ascending or entirely descending. Two equal numbers in a row make it unsafe. It must be STRICTLY asc/desc.\n",
    "A safe row must also differ by at least 1 and at most 3."
   ]
  },
  {
   "cell_type": "code",
   "execution_count": 25,
   "id": "7e1888f9-a7e9-4a38-b8da-6cfee29a949c",
   "metadata": {},
   "outputs": [
    {
     "data": {
      "text/plain": [
       "639"
      ]
     },
     "execution_count": 25,
     "metadata": {},
     "output_type": "execute_result"
    }
   ],
   "source": [
    "file_path = 'C:\\\\Users\\\\jackb\\\\OneDrive\\\\Documents\\\\Python Scripts\\\\Advent of Code\\\\Raw Data\\\\AdventDayTwoRaw.txt'\n",
    "\n",
    "lines = open(file_path).readlines()\n",
    "\n",
    "def isSafe(line):\n",
    "    if int(line[0]) < int(line[1]):\n",
    "        for i in range(len(line)-1):\n",
    "            if int(line[i+1]) - int(line[i]) not in [1,2,3]:\n",
    "                return 0\n",
    "    else:\n",
    "        for i in range(len(line)-1):\n",
    "            if int(line[i]) - int(line[i+1]) not in [1,2,3]:\n",
    "                return 0\n",
    "    return 1\n",
    "\n",
    "safe = 0\n",
    "for _ in lines:\n",
    "    line = _.strip().split()\n",
    "    safe += isSafe(line)\n",
    "\n",
    "safe\n",
    "    "
   ]
  },
  {
   "cell_type": "markdown",
   "id": "179ac9a4-0cd4-4779-bae9-0e37f5e3c5fb",
   "metadata": {},
   "source": [
    "## Day Two (Part 2)\n",
    "\n",
    "This is the same problem statement as Part 1, except a single entry is allowed to be removed from each list to create safety.\n",
    "There should be an increase in the number of safe entries."
   ]
  },
  {
   "cell_type": "code",
   "execution_count": 39,
   "id": "ef18a0d0-657e-485b-b0d3-ff0f34231a0a",
   "metadata": {},
   "outputs": [
    {
     "data": {
      "text/plain": [
       "674"
      ]
     },
     "execution_count": 39,
     "metadata": {},
     "output_type": "execute_result"
    }
   ],
   "source": [
    "def isSafe(line):\n",
    "    if int(line[0]) < int(line[1]):\n",
    "        for i in range(len(line)-1):\n",
    "            if int(line[i+1]) - int(line[i]) not in [1,2,3]:\n",
    "                return 0\n",
    "    else:\n",
    "        for i in range(len(line)-1):\n",
    "            if int(line[i]) - int(line[i+1]) not in [1,2,3]:\n",
    "                return 0\n",
    "    return 1\n",
    "\n",
    "safe = 0\n",
    "for _ in lines:\n",
    "    line = _.strip().split()\n",
    "    if isSafe(line) == 1:\n",
    "        safe += 1\n",
    "    else:\n",
    "        for j in range(len(line)):\n",
    "            newLine = line[:j] + line[j+1:]\n",
    "            if isSafe(newLine) == 1:\n",
    "                safe += 1\n",
    "                break\n",
    "                \n",
    "safe"
   ]
  },
  {
   "cell_type": "markdown",
   "id": "ff09fd0e-ad06-43e3-a1e4-2a29ee770331",
   "metadata": {},
   "source": [
    "## Day Three (Part 1)\n",
    "\n",
    "Read in the raw text file.\n",
    "Only perform instructions that are of exactly the format mul(x,y) where x and y are 1 to 3 digit numbers.\n",
    "Anything else should be completely ignored.\n",
    "Sum up the results of these multiplications"
   ]
  },
  {
   "cell_type": "code",
   "execution_count": 51,
   "id": "1bd517ed-c495-4db8-bd7e-b9e126cc7610",
   "metadata": {},
   "outputs": [
    {
     "data": {
      "text/plain": [
       "181345830"
      ]
     },
     "execution_count": 51,
     "metadata": {},
     "output_type": "execute_result"
    }
   ],
   "source": [
    "file_path = 'C:\\\\Users\\\\jackb\\\\OneDrive\\\\Documents\\\\Python Scripts\\\\Advent of Code\\\\Raw Data\\\\AdventDayThreeRaw.txt'\n",
    "\n",
    "data = open(file_path).read()\n",
    "\n",
    "def checkMult(string):\n",
    "    if string[0:4] != \"mul(\" or string.find(\",\") == -1 or string.find(\")\") == -1:\n",
    "        return 0\n",
    "    commaLoc = string.find(\",\")\n",
    "    closeLoc = string.find(\")\")\n",
    "    try:\n",
    "        sum = int(string[4:commaLoc]) * int(string[commaLoc+1:closeLoc])\n",
    "    except:\n",
    "        sum = 0\n",
    "    return sum\n",
    "\n",
    "sumTotal = 0\n",
    "for i in range(len(data)):\n",
    "    if data[i] == \"m\":\n",
    "        sumTotal += checkMult(data[i:i+12])\n",
    "sumTotal"
   ]
  },
  {
   "cell_type": "markdown",
   "id": "cf6b6f4c-495b-4709-a67f-b162e0812a65",
   "metadata": {},
   "source": [
    "## Day Three (Part 2)\n",
    "\n",
    "The same as part 1, except this time the multiply can be turned off with a don't() instruction.\n",
    "They can be turned back on with a do() instruction.\n",
    "Turn a switch \"on\" and \"off\" based off when these are found, and begin with it being turned \"on\" (as if it has seen a do() command)"
   ]
  },
  {
   "cell_type": "code",
   "execution_count": 55,
   "id": "2f316b0f-1a67-4753-8b7e-822c13dc9933",
   "metadata": {},
   "outputs": [
    {
     "data": {
      "text/plain": [
       "98729041"
      ]
     },
     "execution_count": 55,
     "metadata": {},
     "output_type": "execute_result"
    }
   ],
   "source": [
    "def checkMult(string):\n",
    "    if string[0:4] != \"mul(\" or string.find(\",\") == -1 or string.find(\")\") == -1:\n",
    "        return 0\n",
    "    commaLoc = string.find(\",\")\n",
    "    closeLoc = string.find(\")\")\n",
    "    try:\n",
    "        sum = int(string[4:commaLoc]) * int(string[commaLoc+1:closeLoc])\n",
    "    except:\n",
    "        sum = 0\n",
    "    return sum\n",
    "\n",
    "# Set the intial total to 0 and the initial Do switch to \"on\"\n",
    "sumTotal = 0\n",
    "doDont = 1\n",
    "for i in range(len(data)):\n",
    "    if data[i] == \"d\":\n",
    "        if data[i:i+4] == \"do()\":\n",
    "            doDont = 1\n",
    "        elif data[i:i+7] == \"don't()\":\n",
    "            doDont = 0\n",
    "    elif data[i] == \"m\" and doDont == 1:\n",
    "        sumTotal += checkMult(data[i:i+12])\n",
    "sumTotal"
   ]
  },
  {
   "cell_type": "code",
   "execution_count": null,
   "id": "938fe431-c31e-43ab-969f-7f734eab394d",
   "metadata": {},
   "outputs": [],
   "source": []
  }
 ],
 "metadata": {
  "kernelspec": {
   "display_name": "Python 3 (ipykernel)",
   "language": "python",
   "name": "python3"
  },
  "language_info": {
   "codemirror_mode": {
    "name": "ipython",
    "version": 3
   },
   "file_extension": ".py",
   "mimetype": "text/x-python",
   "name": "python",
   "nbconvert_exporter": "python",
   "pygments_lexer": "ipython3",
   "version": "3.12.4"
  }
 },
 "nbformat": 4,
 "nbformat_minor": 5
}

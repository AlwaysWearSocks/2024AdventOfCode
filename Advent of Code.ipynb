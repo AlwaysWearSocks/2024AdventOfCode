{
 "cells": [
  {
   "cell_type": "markdown",
   "id": "f980e07c-001d-4648-a3fc-d1e9380d994a",
   "metadata": {},
   "source": [
    "## Day One (Part 1)\n",
    "\n",
    "Read in the raw data, and then calculate the distance between the two sorted lists"
   ]
  },
  {
   "cell_type": "code",
   "execution_count": 5,
   "id": "a10fd2d2-a3e3-4635-9aa8-f31e9534deeb",
   "metadata": {},
   "outputs": [
    {
     "name": "stdout",
     "output_type": "stream",
     "text": [
      "2756096\n"
     ]
    }
   ],
   "source": [
    "file_path = 'C:\\\\Users\\\\jackb\\\\OneDrive\\\\Documents\\\\Python Scripts\\\\Advent of Code\\\\Raw Data\\\\AdventDayOneRaw.txt'\n",
    "\n",
    "data = list(map(int, open(file_path).read().split()))\n",
    "\n",
    "locationOne = data[0::2]\n",
    "locationTwo = data[1::2]\n",
    "\n",
    "locationOne.sort()\n",
    "locationTwo.sort()\n",
    "totalDist = 0\n",
    "for i in range(len(locationOne)):\n",
    "    totalDist += abs(locationOne[i] - locationTwo[i])\n",
    "\n",
    "print(totalDist)"
   ]
  },
  {
   "cell_type": "markdown",
   "id": "51183695-a509-47b3-a0c9-845589e8e19a",
   "metadata": {},
   "source": [
    "## Day One (Part 2)\n",
    "\n",
    "Calculate a similarity score, where the numbers in the left list are multiplied by their occurence in the right list"
   ]
  },
  {
   "cell_type": "code",
   "execution_count": 91,
   "id": "3d822ba5-9c4a-4a2b-ab87-a7fec6dded7e",
   "metadata": {},
   "outputs": [
    {
     "data": {
      "text/plain": [
       "23117829"
      ]
     },
     "execution_count": 91,
     "metadata": {},
     "output_type": "execute_result"
    }
   ],
   "source": [
    "locDict = {}\n",
    "\n",
    "# Parse the second list and add to a dictionary for future lookup\n",
    "for loc in locationTwo:\n",
    "    if loc in locDict:\n",
    "        locDict[loc] += 1\n",
    "    else:\n",
    "        locDict[loc] = 1\n",
    "\n",
    "# Parse the first list and accumulate a similarity score using the dictionary\n",
    "similarityScore = 0\n",
    "for loc in locationOne:\n",
    "    if loc in locDict:\n",
    "        similarityScore += loc * locDict[loc]\n",
    "    else:\n",
    "        similarityScore += 0\n",
    "\n",
    "similarityScore"
   ]
  },
  {
   "cell_type": "markdown",
   "id": "fb40e6d3-c315-4340-8bf3-0cd7e5975f71",
   "metadata": {},
   "source": [
    "## Day Two (Part 1)\n",
    "\n",
    "Read in the raw data and check if each row is safe.\n",
    "A safe row is one that is entirely ascending or entirely descending. Two equal numbers in a row make it unsafe. It must be STRICTLY asc/desc.\n",
    "A safe row must also differ by at least 1 and at most 3."
   ]
  },
  {
   "cell_type": "code",
   "execution_count": 25,
   "id": "7e1888f9-a7e9-4a38-b8da-6cfee29a949c",
   "metadata": {},
   "outputs": [
    {
     "data": {
      "text/plain": [
       "639"
      ]
     },
     "execution_count": 25,
     "metadata": {},
     "output_type": "execute_result"
    }
   ],
   "source": [
    "file_path = 'C:\\\\Users\\\\jackb\\\\OneDrive\\\\Documents\\\\Python Scripts\\\\Advent of Code\\\\Raw Data\\\\AdventDayTwoRaw.txt'\n",
    "\n",
    "lines = open(file_path).readlines()\n",
    "\n",
    "def isSafe(line):\n",
    "    if int(line[0]) < int(line[1]):\n",
    "        for i in range(len(line)-1):\n",
    "            if int(line[i+1]) - int(line[i]) not in [1,2,3]:\n",
    "                return 0\n",
    "    else:\n",
    "        for i in range(len(line)-1):\n",
    "            if int(line[i]) - int(line[i+1]) not in [1,2,3]:\n",
    "                return 0\n",
    "    return 1\n",
    "\n",
    "safe = 0\n",
    "for _ in lines:\n",
    "    line = _.strip().split()\n",
    "    safe += isSafe(line)\n",
    "\n",
    "safe\n",
    "    "
   ]
  },
  {
   "cell_type": "markdown",
   "id": "179ac9a4-0cd4-4779-bae9-0e37f5e3c5fb",
   "metadata": {},
   "source": [
    "## Day Two (Part 2)\n",
    "\n",
    "This is the same problem statement as Part 1, except a single entry is allowed to be removed from each list to create safety.\n",
    "There should be an increase in the number of safe entries."
   ]
  },
  {
   "cell_type": "code",
   "execution_count": 39,
   "id": "ef18a0d0-657e-485b-b0d3-ff0f34231a0a",
   "metadata": {},
   "outputs": [
    {
     "data": {
      "text/plain": [
       "674"
      ]
     },
     "execution_count": 39,
     "metadata": {},
     "output_type": "execute_result"
    }
   ],
   "source": [
    "def isSafe(line):\n",
    "    if int(line[0]) < int(line[1]):\n",
    "        for i in range(len(line)-1):\n",
    "            if int(line[i+1]) - int(line[i]) not in [1,2,3]:\n",
    "                return 0\n",
    "    else:\n",
    "        for i in range(len(line)-1):\n",
    "            if int(line[i]) - int(line[i+1]) not in [1,2,3]:\n",
    "                return 0\n",
    "    return 1\n",
    "\n",
    "safe = 0\n",
    "for _ in lines:\n",
    "    line = _.strip().split()\n",
    "    if isSafe(line) == 1:\n",
    "        safe += 1\n",
    "    else:\n",
    "        for j in range(len(line)):\n",
    "            newLine = line[:j] + line[j+1:]\n",
    "            if isSafe(newLine) == 1:\n",
    "                safe += 1\n",
    "                break\n",
    "                \n",
    "safe"
   ]
  },
  {
   "cell_type": "markdown",
   "id": "ff09fd0e-ad06-43e3-a1e4-2a29ee770331",
   "metadata": {},
   "source": [
    "## Day Three (Part 1)\n",
    "\n",
    "Read in the raw text file.\n",
    "Only perform instructions that are of exactly the format mul(x,y) where x and y are 1 to 3 digit numbers.\n",
    "Anything else should be completely ignored.\n",
    "Sum up the results of these multiplications"
   ]
  },
  {
   "cell_type": "code",
   "execution_count": 51,
   "id": "1bd517ed-c495-4db8-bd7e-b9e126cc7610",
   "metadata": {},
   "outputs": [
    {
     "data": {
      "text/plain": [
       "181345830"
      ]
     },
     "execution_count": 51,
     "metadata": {},
     "output_type": "execute_result"
    }
   ],
   "source": [
    "file_path = 'C:\\\\Users\\\\jackb\\\\OneDrive\\\\Documents\\\\Python Scripts\\\\Advent of Code\\\\Raw Data\\\\AdventDayThreeRaw.txt'\n",
    "\n",
    "data = open(file_path).read()\n",
    "\n",
    "def checkMult(string):\n",
    "    if string[0:4] != \"mul(\" or string.find(\",\") == -1 or string.find(\")\") == -1:\n",
    "        return 0\n",
    "    commaLoc = string.find(\",\")\n",
    "    closeLoc = string.find(\")\")\n",
    "    try:\n",
    "        sum = int(string[4:commaLoc]) * int(string[commaLoc+1:closeLoc])\n",
    "    except:\n",
    "        sum = 0\n",
    "    return sum\n",
    "\n",
    "sumTotal = 0\n",
    "for i in range(len(data)):\n",
    "    if data[i] == \"m\":\n",
    "        sumTotal += checkMult(data[i:i+12])\n",
    "sumTotal"
   ]
  },
  {
   "cell_type": "markdown",
   "id": "cf6b6f4c-495b-4709-a67f-b162e0812a65",
   "metadata": {},
   "source": [
    "## Day Three (Part 2)\n",
    "\n",
    "The same as part 1, except this time the multiply can be turned off with a don't() instruction.\n",
    "They can be turned back on with a do() instruction.\n",
    "Turn a switch \"on\" and \"off\" based off when these are found, and begin with it being turned \"on\" (as if it has seen a do() command)"
   ]
  },
  {
   "cell_type": "code",
   "execution_count": 55,
   "id": "2f316b0f-1a67-4753-8b7e-822c13dc9933",
   "metadata": {},
   "outputs": [
    {
     "data": {
      "text/plain": [
       "98729041"
      ]
     },
     "execution_count": 55,
     "metadata": {},
     "output_type": "execute_result"
    }
   ],
   "source": [
    "def checkMult(string):\n",
    "    if string[0:4] != \"mul(\" or string.find(\",\") == -1 or string.find(\")\") == -1:\n",
    "        return 0\n",
    "    commaLoc = string.find(\",\")\n",
    "    closeLoc = string.find(\")\")\n",
    "    try:\n",
    "        sum = int(string[4:commaLoc]) * int(string[commaLoc+1:closeLoc])\n",
    "    except:\n",
    "        sum = 0\n",
    "    return sum\n",
    "\n",
    "# Set the intial total to 0 and the initial Do switch to \"on\"\n",
    "sumTotal = 0\n",
    "doDont = 1\n",
    "for i in range(len(data)):\n",
    "    if data[i] == \"d\":\n",
    "        if data[i:i+4] == \"do()\":\n",
    "            doDont = 1\n",
    "        elif data[i:i+7] == \"don't()\":\n",
    "            doDont = 0\n",
    "    elif data[i] == \"m\" and doDont == 1:\n",
    "        sumTotal += checkMult(data[i:i+12])\n",
    "sumTotal"
   ]
  },
  {
   "cell_type": "markdown",
   "id": "1a1d07e6-6cdb-46f6-b8c8-b501ce353c61",
   "metadata": {},
   "source": [
    "## Day Four (Part 1)\n",
    "\n",
    "I am given raw data that is a series of lines of strings. This repesents a crossword.\n",
    "Read in the crossword and find ALL instances of the word 'XMAS', be it forward or backward or diagonal - every direction counts.\n",
    "Return the total number of instances."
   ]
  },
  {
   "cell_type": "code",
   "execution_count": 34,
   "id": "675d6596-5aa8-4352-9305-f705aa555c0a",
   "metadata": {},
   "outputs": [
    {
     "data": {
      "text/plain": [
       "2397"
      ]
     },
     "execution_count": 34,
     "metadata": {},
     "output_type": "execute_result"
    }
   ],
   "source": [
    "file_path = 'C:\\\\Users\\\\jackb\\\\OneDrive\\\\Documents\\\\Python Scripts\\\\Advent of Code\\\\Raw Data\\\\AdventDayFourRaw.txt'\n",
    "\n",
    "# Read in the file and convert the entire crossword grid to a dictionary\n",
    "lines = open(file_path).read().splitlines()\n",
    "row = len(lines[0])\n",
    "col = len(lines)\n",
    "gridDict = {}\n",
    "for x in range(col):\n",
    "    for y in range(row):\n",
    "        gridDict[(x,y)] = lines[x][y]\n",
    "\n",
    "# Setup all 8 directions of search for the word and iterate on them whenever an X is found in the grid.\n",
    "# Handle out of bounds references using the get method\n",
    "# Add one to the counter if the word is exactly XMAS\n",
    "counter = 0\n",
    "directions = [(0,1), (1, 1), (1, 0), (1, -1), (0, -1), (-1, -1), (-1, 0), (-1, 1)]\n",
    "for i in range(col):\n",
    "    for j in range(row):\n",
    "        if gridDict[(i, j)] == \"X\":\n",
    "            for (dx, dy) in directions:\n",
    "                word = [\"\".join(gridDict.get((i + dx*m, j + dy*m), \"\")) for m in range(4)]\n",
    "                string = word[0] + word[1] + word[2] + word[3]\n",
    "                if string == \"XMAS\":\n",
    "                    counter += 1\n",
    "counter"
   ]
  },
  {
   "cell_type": "markdown",
   "id": "18684141-08d4-43b1-96f5-2c45c623eccd",
   "metadata": {},
   "source": [
    "## Day Four (Part 2)\n",
    "\n",
    "This is similar to part one, except now we are searching for MAS in the shape of an X.\n",
    "These can only occur now in four directions, and must have a counterpart MAS to create the required X formation"
   ]
  },
  {
   "cell_type": "code",
   "execution_count": 61,
   "id": "06be7886-c4ae-4028-a165-99fbc3dae9af",
   "metadata": {},
   "outputs": [
    {
     "data": {
      "text/plain": [
       "1824"
      ]
     },
     "execution_count": 61,
     "metadata": {},
     "output_type": "execute_result"
    }
   ],
   "source": [
    "def masSearch(x, y):\n",
    "    word1 = [\"\".join(gridDict.get((x + 1*m, y + 1*m), \"\")) for m in [-1, 0, 1]]\n",
    "    string1 = word1[0] + word1[1] + word1[2]\n",
    "    if string1 in (\"MAS\", \"SAM\"):\n",
    "        word2 = [\"\".join(gridDict.get((x + -1*m, y + 1*m), \"\")) for m in [-1, 0, 1]]\n",
    "        string2 = word2[0] + word2[1] + word2[2]\n",
    "        if string2 in [\"MAS\", \"SAM\"]:\n",
    "            return 1\n",
    "        else:\n",
    "            return 0\n",
    "    else:\n",
    "        return 0\n",
    "\n",
    "counter = 0\n",
    "directions = [(1, 1), (1, -1)]\n",
    "for i in range(col):\n",
    "    for j in range(row):\n",
    "        if gridDict[(i, j)] == \"A\":\n",
    "            counter += masSearch(i, j)\n",
    "counter"
   ]
  },
  {
   "cell_type": "markdown",
   "id": "e07405f6-d355-4d36-8b28-ee8ce738c8c6",
   "metadata": {},
   "source": [
    "## Day Five (Part 1)\n",
    "\n",
    "Read in a list of page rules in the format x|y where x has to be before y.\n",
    "Read in a list of pages for updates that must obey the rules.\n",
    "Verify which lists of pages are correct then return the sum of the middle numbers of those lists."
   ]
  },
  {
   "cell_type": "code",
   "execution_count": 23,
   "id": "73019ff4-72e9-4219-91b4-0ed58755890f",
   "metadata": {},
   "outputs": [
    {
     "data": {
      "text/plain": [
       "4462"
      ]
     },
     "execution_count": 23,
     "metadata": {},
     "output_type": "execute_result"
    }
   ],
   "source": [
    "file_path = 'C:\\\\Users\\\\jackb\\\\OneDrive\\\\Documents\\\\Python Scripts\\\\Advent of Code\\\\Raw Data\\\\AdventDayFiveRaw.txt'\n",
    "\n",
    "data = open(file_path).read().splitlines()\n",
    "rulesIntermediate = [entry.split('|') for entry in data if '|' in entry]\n",
    "rules = [[int(x) for x in lst] for lst in rulesIntermediate]\n",
    "pageStringsInter = [entry.split(',') for entry in data if ',' in entry]\n",
    "pageStrings = [[int(x) for x in lst] for lst in pageStringsInter]\n",
    "\n",
    "# Define a function that returns 1 if a rule is broken, and returns 0 if they are all satisfied.\n",
    "# A rule is broken if a page that has been previously passed is contained in the rule as needing to be AFTER the page currently being looked at\n",
    "def checkRules(pageNum, prevPages, rules):\n",
    "    for rule in rules:\n",
    "        if rule[0] == pageNum:\n",
    "            for page in prevPages:\n",
    "                if rule[1] == page:\n",
    "                    return 1\n",
    "    return 0\n",
    "\n",
    "# Define a function that returns 0 if the update to the manual is valid and returns 1 if it is not\n",
    "def validUpdate(pageNums, rules):\n",
    "    ruleBroken = 0\n",
    "    prevPages = [pageNums[0]]\n",
    "    for page in pageNums[1::]:\n",
    "        ruleBroken = checkRules(page, prevPages, rules)\n",
    "        if ruleBroken == 1:\n",
    "            return 1\n",
    "        prevPages += [page]\n",
    "    return 0\n",
    "\n",
    "middleSum = 0\n",
    "for lst in pageStrings:\n",
    "    if validUpdate(lst, rules) == 0:\n",
    "        middleDigit = len(lst)//2\n",
    "        middleSum += lst[middleDigit]\n",
    "print(middleSum)\n"
   ]
  },
  {
   "cell_type": "markdown",
   "id": "cfcd67b0-2583-4b63-a9e3-354f75cc2c0f",
   "metadata": {},
   "source": [
    "## Day Five (Part 2)\n",
    "\n",
    "Take all of the incorrectly ordered sequences of page numbers and fix them according to the rules.\n",
    "Once they are fixed, return the sum of THEIR middle numbers."
   ]
  },
  {
   "cell_type": "code",
   "execution_count": 63,
   "id": "e58c64ac-ea73-4bb2-bfbb-b38f57dd4eb6",
   "metadata": {},
   "outputs": [
    {
     "name": "stdout",
     "output_type": "stream",
     "text": [
      "6767\n"
     ]
    }
   ],
   "source": [
    "file_path = 'C:\\\\Users\\\\jackb\\\\OneDrive\\\\Documents\\\\Python Scripts\\\\Advent of Code\\\\Raw Data\\\\AdventDayFiveRaw.txt'\n",
    "\n",
    "data = open(file_path).read().splitlines()\n",
    "rulesIntermediate = [entry.split('|') for entry in data if '|' in entry]\n",
    "rules = [[int(x) for x in lst] for lst in rulesIntermediate]\n",
    "pageStringsInter = [entry.split(',') for entry in data if ',' in entry]\n",
    "pageStrings = [[int(x) for x in lst] for lst in pageStringsInter]\n",
    "\n",
    "# Define a function that returns the rule if a rule is broken, and returns 0 if they are all satisfied.\n",
    "# A rule is broken if a page that has been previously passed is contained in the rule as needing to be AFTER the page currently being looked at\n",
    "def checkRules(pageNum, prevPages, rules):\n",
    "    for rule in rules:\n",
    "        if rule[0] == pageNum:\n",
    "            for page in prevPages:\n",
    "                if rule[1] == page:\n",
    "                    return rule\n",
    "    return 0\n",
    "\n",
    "# Define a function that returns 0 if the update to the manual is valid and returns the first rule that is broken if not\n",
    "def validUpdate(pageNums, rules):\n",
    "    ruleBroken = 0\n",
    "    prevPages = [pageNums[0]]\n",
    "    for page in pageNums[1::]:\n",
    "        ruleBroken = checkRules(page, prevPages, rules)\n",
    "        if ruleBroken != 0:\n",
    "            return ruleBroken\n",
    "        prevPages += [page]\n",
    "    return 0\n",
    "\n",
    "# This is a bit messy I feel but I'm in a rush this could be tidied up.\n",
    "# Hunt for all the incorrect page orders and then swap the pages that disobey rules.\n",
    "# Once all swaps have happened and it is valid, add the middle numbers up.\n",
    "middleSum = 0\n",
    "for testString in pageStrings:\n",
    "    workToDo = 0\n",
    "    addItUp = 0\n",
    "    if validUpdate(testString, rules) != 0:\n",
    "        workToDo = 1\n",
    "        addItUp = 1\n",
    "    while workToDo == 1:\n",
    "        testIt = validUpdate(testString, rules)\n",
    "        if testIt != 0:\n",
    "            a, b = testString.index(testIt[0]), testString.index(testIt[1])\n",
    "            testString[a], testString[b] = testString[b], testString[a]\n",
    "        else:\n",
    "            workToDo = 0\n",
    "    if addItUp == 1:\n",
    "        middleDigit = len(testString)//2\n",
    "        middleSum += testString[middleDigit]\n",
    "print(middleSum)"
   ]
  },
  {
   "cell_type": "markdown",
   "id": "9dcd5ecf-8dc9-4e26-8a89-8e815d296b6e",
   "metadata": {},
   "source": [
    "## Day Six (Part 1)\n",
    "\n",
    "A grid of places for a guard to move, with obstacles marked as a hash and the guard marked as ^ facing up. The guard moves forwards (up) until hitting an object and then turns right and follows this pattern until leaving the grid. Return the number of distinct places visited."
   ]
  },
  {
   "cell_type": "code",
   "execution_count": 79,
   "id": "21cdf6e3-6161-42ab-beb9-b47abc8c5323",
   "metadata": {},
   "outputs": [
    {
     "name": "stdout",
     "output_type": "stream",
     "text": [
      "4964\n"
     ]
    }
   ],
   "source": [
    "file_path = 'C:\\\\Users\\\\jackb\\\\OneDrive\\\\Documents\\\\Python Scripts\\\\Advent of Code\\\\Raw Data\\\\AdventDaySixRaw.txt'\n",
    "\n",
    "data = open(file_path).read().splitlines()\n",
    "for count, line in enumerate(data):\n",
    "    if '^' in line:\n",
    "        pos = line.find('^')\n",
    "        guardPosition = [pos, count]\n",
    "\n",
    "# A function to move the guard by a direction specified in the direction index.\n",
    "def moveGuard(dirIndex):\n",
    "    newLoc = [0, 0]\n",
    "    for m in [0, 1]:\n",
    "        newLoc[m] = guardPosition[m] + directions[dirIndex][m]\n",
    "    return newLoc\n",
    "    \n",
    "# Having found the guard's position, setup a dictionary to track where the guard has been.\n",
    "# Also setup a direction to show where the guard moves.\n",
    "visited = {}\n",
    "directions = [[0, -1], [1, 0], [0, 1], [-1, 0]]\n",
    "dirIndex = 0\n",
    "withinGrid = 1\n",
    "while withinGrid == 1:\n",
    "    \n",
    "    # While we are within the grid, add the current location to the dictionary if required before moving the guard\n",
    "    dictEntry = (guardPosition[0], guardPosition[1])\n",
    "    if dictEntry not in visited:\n",
    "        visited[dictEntry] = 1\n",
    "\n",
    "    # Move the guard to a new location and check that that is still within the grid. If it is, check for hash, then move.\n",
    "    newPos = moveGuard(dirIndex)\n",
    "    if newPos[0] > -1 and newPos[0] < len(data) and newPos[1] > -1 and newPos[1] < len(data[0]):\n",
    "        xCoord = newPos[1]\n",
    "        yCoord = newPos[0]\n",
    "        if data[xCoord][yCoord] == '#':\n",
    "            dirIndex += 1\n",
    "            if dirIndex == 4:\n",
    "                dirIndex = 0\n",
    "            newPos = moveGuard(dirIndex)\n",
    "            # Repeat to check for little corner traps in the data. Unlikely but worth it.\n",
    "            xCoord = newPos[1]\n",
    "            yCoord = newPos[0]\n",
    "            if data[xCoord][yCoord] == '#':\n",
    "                dirIndex += 1\n",
    "                if dirIndex == 4:\n",
    "                    dirIndex = 0\n",
    "                newPos = moveGuard(dirIndex)\n",
    "        guardPosition = newPos\n",
    "    else:\n",
    "        withinGrid = 0\n",
    "    \n",
    "print(len(visited))"
   ]
  },
  {
   "cell_type": "markdown",
   "id": "e28d8c2a-8042-4f67-8434-597730133dd4",
   "metadata": {},
   "source": [
    "## Day Seven (Part 1)\n",
    "\n",
    "The input is a set of numbers, the first separated from the rest by a colon. The ask is to see if that first number can be made using the remaining numbers by inserting only the operators plus and multiply. All operations are performed left to right."
   ]
  },
  {
   "cell_type": "code",
   "execution_count": 46,
   "id": "0b801018-38d1-4c94-a4b1-909fe6f65e97",
   "metadata": {},
   "outputs": [
    {
     "name": "stdout",
     "output_type": "stream",
     "text": [
      "3245122495150\n"
     ]
    }
   ],
   "source": [
    "file_path = 'C:\\\\Users\\\\jackb\\\\OneDrive\\\\Documents\\\\Python Scripts\\\\Advent of Code\\\\Raw Data\\\\AdventDaySevenRaw.txt'\n",
    "\n",
    "data = open(file_path).read().splitlines()\n",
    "\n",
    "calibrationResult = 0\n",
    "for line in data:\n",
    "    result, nums = line.split(\": \")\n",
    "    result = int(result)\n",
    "    nums = [int(x) for x in nums.split()]\n",
    "    queue = [nums.pop(0)]\n",
    "    for x in nums:\n",
    "        newQueue = []\n",
    "        for y in queue:\n",
    "            num1 = y * x\n",
    "            num2 = y + x\n",
    "            if num1 <= result:\n",
    "                newQueue.append(num1)\n",
    "            if num2 <= result:\n",
    "                newQueue.append(num2)\n",
    "        queue = newQueue\n",
    "    if result in queue:\n",
    "        calibrationResult += result\n",
    "print(calibrationResult)"
   ]
  },
  {
   "cell_type": "markdown",
   "id": "0a4cf2c1-a1a8-4d37-abc7-816bfa057dc9",
   "metadata": {},
   "source": [
    "## Day Seven (Part 2)\n",
    "\n",
    "This is the same problem statement as above, except now the numbers can be concatenated too, which requires adding in a third operation (and possibly ballooning the runtime, may need to find a trick to bring that down)"
   ]
  },
  {
   "cell_type": "code",
   "execution_count": 49,
   "id": "ecf0847a-fb33-4a2e-8d75-755a288d1024",
   "metadata": {},
   "outputs": [
    {
     "name": "stdout",
     "output_type": "stream",
     "text": [
      "105517128211543\n"
     ]
    }
   ],
   "source": [
    "file_path = 'C:\\\\Users\\\\jackb\\\\OneDrive\\\\Documents\\\\Python Scripts\\\\Advent of Code\\\\Raw Data\\\\AdventDaySevenRaw.txt'\n",
    "\n",
    "data = open(file_path).read().splitlines()\n",
    "\n",
    "calibrationResult = 0\n",
    "for line in data:\n",
    "    result, nums = line.split(\": \")\n",
    "    result = int(result)\n",
    "    nums = [int(x) for x in nums.split()]\n",
    "    queue = [nums.pop(0)]\n",
    "    for x in nums:\n",
    "        newQueue = []\n",
    "        for y in queue:\n",
    "            num1 = y * x\n",
    "            num2 = y + x\n",
    "            num3 = int(str(y) + str(x))\n",
    "            if num1 <= result:\n",
    "                newQueue.append(num1)\n",
    "            if num2 <= result:\n",
    "                newQueue.append(num2)\n",
    "            if num3 <= result:\n",
    "                newQueue.append(num3)\n",
    "        queue = newQueue\n",
    "    if result in queue:\n",
    "        calibrationResult += result\n",
    "print(calibrationResult)"
   ]
  },
  {
   "cell_type": "markdown",
   "id": "ae0b497c-5aea-4522-8b76-7b0fdedd4214",
   "metadata": {},
   "source": [
    "## Day Eight (Part 1)\n",
    "\n",
    "There is a big grid of characters, most of them dots but some of them letters/numbers. These represent antennas. If two antennas have the same letter, then there is an anti-node created at the position such that one is twice as far away as the other (basically, a straight line between them, and then that distance again further on) if that position is within the grid. Calculate how many anti-nodes there are."
   ]
  },
  {
   "cell_type": "code",
   "execution_count": 42,
   "id": "ad76bec4-6c2b-4209-af24-5bf573e8b44c",
   "metadata": {},
   "outputs": [
    {
     "name": "stdout",
     "output_type": "stream",
     "text": [
      "254\n"
     ]
    }
   ],
   "source": [
    "file_path = 'C:\\\\Users\\\\jackb\\\\OneDrive\\\\Documents\\\\Python Scripts\\\\Advent of Code\\\\Raw Data\\\\AdventDayEightRaw.txt'\n",
    "\n",
    "data = open(file_path).read().splitlines()\n",
    "\n",
    "antennas = {}\n",
    "height = len(data)\n",
    "width = len(data[0])\n",
    "antiNodesSet = set()\n",
    "\n",
    "# Define a function to add the node or antenna to the dictionary (appending to a list if one has already been found)\n",
    "def addNode(char, x, y):\n",
    "    if char in antennas:\n",
    "        antennas[char].append([x,y])\n",
    "    else:\n",
    "        antennas[char] = [[x,y]]\n",
    "\n",
    "# Define a function that searches for the two possible anti-nodes for a pairing of antennas. Return them both\n",
    "def antiNodes(node1, node2):\n",
    "    [x, y] = node1\n",
    "    [a, b] = node2\n",
    "    d1 = a-x\n",
    "    d2 = b-y\n",
    "    return ((x - d1, y - d2), (a + d1, b + d2))\n",
    "\n",
    "# Define a function that checks if a node if within the grid\n",
    "def isValidNode(node):\n",
    "    x, y = node\n",
    "    if x >= 0 and x < width and y >= 0 and y < height:\n",
    "        return 1\n",
    "    else:\n",
    "        return 0\n",
    "\n",
    "# Fill the dictionary with the antenna positions\n",
    "for i in range(height):\n",
    "    for j in range(width):\n",
    "        if data[i][j] != \".\":\n",
    "            addNode(data[i][j], j, i)\n",
    "\n",
    "# Process each antenna 'frequency' in the dictionary and work out the anti-nodes\n",
    "for char in antennas:\n",
    "    nodes = antennas.get(char)\n",
    "    lenNodes = len(nodes)\n",
    "    for i in range(lenNodes):\n",
    "        for j in range(i+1, lenNodes):\n",
    "            (antiNode1, antiNode2) = antiNodes(nodes[i], nodes[j])\n",
    "            if isValidNode(antiNode1):\n",
    "                antiNodesSet.add(antiNode1)\n",
    "            if isValidNode(antiNode2):\n",
    "                antiNodesSet.add(antiNode2)\n",
    "\n",
    "print(len(antiNodesSet))\n",
    "            \n",
    "        \n",
    "        "
   ]
  },
  {
   "cell_type": "markdown",
   "id": "04d609ed-6f7a-4423-bc42-25c9bfefa1b9",
   "metadata": {},
   "source": [
    "## Day Eight (Part 2)\n",
    "\n",
    "Similar to part One but now any distance can count (while still obeying the rule of being further away by the distance between the two antennas If two antennas were next to each other with a gap of one on a row, then every other node down the rest of the row would be an anti-node. How many unique anti-nodes are there now?"
   ]
  },
  {
   "cell_type": "code",
   "execution_count": 45,
   "id": "004ddf56-8dd6-40e1-ac05-d3cbd8e53884",
   "metadata": {},
   "outputs": [
    {
     "name": "stdout",
     "output_type": "stream",
     "text": [
      "925\n"
     ]
    }
   ],
   "source": [
    "file_path = 'C:\\\\Users\\\\jackb\\\\OneDrive\\\\Documents\\\\Python Scripts\\\\Advent of Code\\\\Raw Data\\\\AdventDayEightRaw.txt'\n",
    "\n",
    "data = open(file_path).read().splitlines()\n",
    "\n",
    "antennas = {}\n",
    "height = len(data)\n",
    "width = len(data[0])\n",
    "antiNodesSet = set()\n",
    "\n",
    "# Define a function to add the node or antenna to the dictionary (appending to a list if one has already been found)\n",
    "def addNode(char, x, y):\n",
    "    if char in antennas:\n",
    "        antennas[char].append([x,y])\n",
    "    else:\n",
    "        antennas[char] = [[x,y]]\n",
    "\n",
    "# Define a function that searches for the two possible anti-nodes for a pairing of antennas. Return them both\n",
    "def antiNodes(node1, node2):\n",
    "    returnNodes = []\n",
    "    [x, y] = node1\n",
    "    [a, b] = node2\n",
    "    d1 = a-x\n",
    "    d2 = b-y\n",
    "    antiNode = [x - d1, y - d2]\n",
    "    i = 1\n",
    "    while isValidNode(antiNode):\n",
    "        returnNodes += [antiNode]\n",
    "        i += 1\n",
    "        antiNode = [x - (d1*i), y - (d2*i)]\n",
    "    antiNode = [x + d1, y + d2]\n",
    "    i = 1\n",
    "    while isValidNode(antiNode):\n",
    "        returnNodes += [antiNode]\n",
    "        i += 1\n",
    "        antiNode = [x + (d1*i), y + (d2*i)]\n",
    "    return returnNodes\n",
    "\n",
    "# Define a function that checks if a node if within the grid\n",
    "def isValidNode(node):\n",
    "    x, y = node\n",
    "    if x >= 0 and x < width and y >= 0 and y < height:\n",
    "        return 1\n",
    "    else:\n",
    "        return 0\n",
    "\n",
    "# Fill the dictionary with the antenna positions\n",
    "for i in range(height):\n",
    "    for j in range(width):\n",
    "        if data[i][j] != \".\":\n",
    "            addNode(data[i][j], j, i)\n",
    "\n",
    "# Process each antenna 'frequency' in the dictionary and work out the anti-nodes\n",
    "for char in antennas:\n",
    "    nodes = antennas.get(char)\n",
    "    lenNodes = len(nodes)\n",
    "    for i in range(lenNodes):\n",
    "        for j in range(i+1, lenNodes):\n",
    "            listOfAntiNodes = antiNodes(nodes[i], nodes[j])\n",
    "            for entry in listOfAntiNodes:\n",
    "                x, y = entry\n",
    "                tupleNode = (x, y)\n",
    "                antiNodesSet.add(tupleNode)\n",
    "print(len(antiNodesSet))\n",
    "\n",
    "# My answer is too low. Correct answer is 951. Not sure the middle of the two antennas counts but could be losing some there?\n",
    "# Otherwise unsure where I could be losing volume."
   ]
  },
  {
   "cell_type": "markdown",
   "id": "3bfc1abe-9e16-4169-b318-701b318f9969",
   "metadata": {},
   "source": [
    "## Day Nine (Part 1)\n",
    "\n",
    "Given a string of digits, where the first digit is the size of block ID 0 and the second digit is the size of a space, and then alternating back to the third digit being block ID 2, the task is to condense the space to the end of the block. This is done by moving the final digit to the first available space. To process (intuition), I should expand out the encoded string to what it represents, then condense, then calculate the CheckSum that is the answer. If this encounters memory errors, it could be done by not expanding by reading pointers from both ends and placing numbers from the end into spaces possibly?"
   ]
  },
  {
   "cell_type": "code",
   "execution_count": 17,
   "id": "1d4a20b8-6b8f-4d96-8b6f-bd476c3e6fbf",
   "metadata": {},
   "outputs": [
    {
     "name": "stdout",
     "output_type": "stream",
     "text": [
      "6332189866718\n"
     ]
    }
   ],
   "source": [
    "file_path = 'C:\\\\Users\\\\jackb\\\\OneDrive\\\\Documents\\\\Python Scripts\\\\Advent of Code\\\\Raw Data\\\\AdventDayNineRaw.txt'\n",
    "\n",
    "string = open(file_path).read()\n",
    "\n",
    "dataSpace = 1\n",
    "idCounter = 0\n",
    "outputString = []\n",
    "for char in string:\n",
    "    if dataSpace == 1:\n",
    "        dataSpace = 0\n",
    "        for _ in range(int(char)):\n",
    "            outputString.append(str(idCounter))\n",
    "        idCounter += 1\n",
    "    else:\n",
    "        dataSpace = 1\n",
    "        outputString += int(char) * \".\"\n",
    "\n",
    "pointer1 = 0\n",
    "pointer2 = len(outputString) - 1\n",
    "fixedString = []\n",
    "while pointer1 <= pointer2:\n",
    "    if outputString[pointer1] == \".\":\n",
    "        if outputString[pointer2] != \".\":\n",
    "            fixedString.append(outputString[pointer2])\n",
    "            pointer1 += 1\n",
    "            pointer2 -= 1\n",
    "        else:\n",
    "            pointer2 -= 1\n",
    "    else:\n",
    "        fixedString.append(outputString[pointer1])\n",
    "        pointer1 += 1\n",
    "\n",
    "checkSum = 0\n",
    "for i in range(len(fixedString)):\n",
    "    checkSum += int(fixedString[i]) * i\n",
    "print(checkSum)\n",
    "\n",
    "\n",
    "# This code is all well and good and does work correctly for the test data so isn't too bad.\n",
    "# This will fall over when using the actual data since it only checks each digit individually, and the real data is much longer meaning that\n",
    "# ID numbers will be 10 or higher and take up multiple digits of space and need to be kept together.\n",
    "# By converting all string processing to lists, I believe I have fixed this and multi-digit numbers will now process together?\n",
    "# This did solve it and I received my star."
   ]
  },
  {
   "cell_type": "markdown",
   "id": "49724297-131c-4afa-8d8d-003f65432678",
   "metadata": {},
   "source": [
    "## Day Nine (Part 2)\n",
    "\n",
    "Not today, quite tough.\n",
    "Same as above, except only move into locations where the file stays together. No moving single numbers, they all must move together. The rightmost file into the leftmost space large enough to hold it. CheckSum remains the same.\n",
    "Semi-confident I could do this but it'd take a little longer and no time right now."
   ]
  },
  {
   "cell_type": "markdown",
   "id": "1adfc7bd-d301-4c4d-bc89-1a767c3afc69",
   "metadata": {},
   "source": [
    "## Day Ten (Part 1)\n",
    "\n",
    "Given a grid of digits between 0 and 9, hiking trails are formed by following (left, right, up, down only) 0s up to 9s in steps of no more than 1. A trail can only be 0, 1, 2, ... , 9. Each 0 (called trailheads) within the grid has a score which represents how many unique 9s that trailhead can reach. Intuition to solve is to find each 0 and then queue up incremental (unique) digits until reaching 9, and then count how many were found and record the score. The sum of these scores should solve the problem"
   ]
  },
  {
   "cell_type": "code",
   "execution_count": 95,
   "id": "fc72e949-c532-4df7-9320-b53c5834db73",
   "metadata": {},
   "outputs": [
    {
     "name": "stdout",
     "output_type": "stream",
     "text": [
      "682\n"
     ]
    }
   ],
   "source": [
    "file_path = 'C:\\\\Users\\\\jackb\\\\OneDrive\\\\Documents\\\\Python Scripts\\\\Advent of Code\\\\Raw Data\\\\AdventDayTenRaw.txt'\n",
    "\n",
    "data = open(file_path).read().splitlines()\n",
    "\n",
    "width = len(data[0])\n",
    "height = len(data)\n",
    "directions = [[0,1], [-1,0], [0,-1], [1,0]]\n",
    "\n",
    "# This function finds the score of a 0 node in the grid, ensuring paths stay within the grid and only following unique routes at each step.\n",
    "def scoreFinder(node):\n",
    "    nodeVal = 0\n",
    "    queue = [node]\n",
    "    while nodeVal < 9:\n",
    "        newQueue = []\n",
    "        nodeVal += 1\n",
    "        for entry in queue:\n",
    "            x, y = entry\n",
    "            for dir in directions:\n",
    "                newX = x + dir[0]\n",
    "                newY = y + dir[1]\n",
    "                if newX > -1 and newY > -1 and newX < height and newY < width:\n",
    "                    if int(data[newX][newY]) == nodeVal and [newX, newY] not in newQueue:\n",
    "                        newQueue.append([newX, newY])\n",
    "        if newQueue != []:\n",
    "            queue = newQueue\n",
    "        else:\n",
    "            return 0 \n",
    "    return len(queue)\n",
    "\n",
    "totalScore = 0\n",
    "for i in range(height):\n",
    "    for j in range(width):\n",
    "        if int(data[i][j]) == 0:\n",
    "            totalScore += scoreFinder([i, j])\n",
    "\n",
    "print(totalScore)"
   ]
  },
  {
   "cell_type": "markdown",
   "id": "3c7ee3a0-372b-4e8d-892a-db516c6078f0",
   "metadata": {},
   "source": [
    "## Day Ten (Part 2)\n",
    "\n",
    "This requires the same as part one, but instead of returning the unique ending nodes, return the number of unique paths. I think this is solved by simply removing the criteria that only unique nodes get carried to the next layer, and instead allow all through so multiple of the same node is allowed if it has been reached by different paths."
   ]
  },
  {
   "cell_type": "code",
   "execution_count": 102,
   "id": "7e69de1e-4603-4e77-9ffb-7a5df3a714be",
   "metadata": {},
   "outputs": [
    {
     "name": "stdout",
     "output_type": "stream",
     "text": [
      "1511\n"
     ]
    }
   ],
   "source": [
    "file_path = 'C:\\\\Users\\\\jackb\\\\OneDrive\\\\Documents\\\\Python Scripts\\\\Advent of Code\\\\Raw Data\\\\AdventDayTenRaw.txt'\n",
    "\n",
    "data = open(file_path).read().splitlines()\n",
    "\n",
    "width = len(data[0])\n",
    "height = len(data)\n",
    "directions = [[0,1], [-1,0], [0,-1], [1,0]]\n",
    "\n",
    "# This function finds the score of a 0 node in the grid, ensuring paths stay within the grid and only following unique routes at each step.\n",
    "def scoreFinder(node):\n",
    "    nodeVal = 0\n",
    "    queue = [node]\n",
    "    while nodeVal < 9:\n",
    "        newQueue = []\n",
    "        nodeVal += 1\n",
    "        for entry in queue:\n",
    "            x, y = entry\n",
    "            for dir in directions:\n",
    "                newX = x + dir[0]\n",
    "                newY = y + dir[1]\n",
    "                if newX > -1 and newY > -1 and newX < height and newY < width:\n",
    "                    if int(data[newX][newY]) == nodeVal:\n",
    "                        newQueue.append([newX, newY])\n",
    "        if newQueue != []:\n",
    "            queue = newQueue\n",
    "        else:\n",
    "            return 0 \n",
    "    return len(queue)\n",
    "\n",
    "totalScore = 0\n",
    "for i in range(height):\n",
    "    for j in range(width):\n",
    "        if int(data[i][j]) == 0:\n",
    "            totalScore += scoreFinder([i, j])\n",
    "\n",
    "print(totalScore)"
   ]
  },
  {
   "cell_type": "markdown",
   "id": "c7f37f37-d96b-4c1c-89c8-f3d169b844a0",
   "metadata": {},
   "source": [
    "## Day Eleven (Part 1)\n",
    "\n",
    "Given a list of numbers, there are 3 rules to apply to each number when you blink. If it is 0, it becomes 1. If it has even number of digits, it splits into two stones/numbers, and if neither apply then multiply it by 2024. I think I would implement a function that does one blink for one number so it can be iterated on in any form, and then apply it as many times as necessary to get the answer (in this case, 25 times to every stone in the input)"
   ]
  },
  {
   "cell_type": "code",
   "execution_count": 51,
   "id": "f418de9c-0142-434a-b57a-de11cdc1c7cf",
   "metadata": {},
   "outputs": [
    {
     "name": "stdout",
     "output_type": "stream",
     "text": [
      "233050\n"
     ]
    }
   ],
   "source": [
    "file_path = 'C:\\\\Users\\\\jackb\\\\OneDrive\\\\Documents\\\\Python Scripts\\\\Advent of Code\\\\Raw Data\\\\AdventDayElevenRaw.txt'\n",
    "\n",
    "data = open(file_path).read().split()\n",
    "\n",
    "# Define a function that takes a string input and imagines you blink once, applying the rules one time.\n",
    "# Due to possible stone splitting, this function has the following properties: Input - string, Output - list of strings\n",
    "def blinkOneTime(string):\n",
    "    returnList = []\n",
    "    if string == \"0\":\n",
    "        returnList.append(\"1\")\n",
    "    elif len(string)%2 == 0:\n",
    "        middle = len(string)//2\n",
    "        # Remove leading zeros\n",
    "        left = int(string[:middle])\n",
    "        right = int(string[middle:])\n",
    "        returnList.append(str(left))\n",
    "        returnList.append(str(right))\n",
    "    else:\n",
    "        mult = int(string) * 2024\n",
    "        returnList.append(str(mult))\n",
    "    return returnList\n",
    "\n",
    "# Define a function that takes a list as an input and performs a single blink on every entry in that list\n",
    "def fullListBlink(list):\n",
    "    finalList = []\n",
    "    for entry in list:\n",
    "        resultOfBlink = blinkOneTime(entry)\n",
    "        for stone in resultOfBlink:\n",
    "            finalList.append(stone)\n",
    "    return finalList\n",
    "\n",
    "toProcess = data\n",
    "for i in range(25):\n",
    "    toProcess = fullListBlink(toProcess)\n",
    "print(len(toProcess))"
   ]
  },
  {
   "cell_type": "markdown",
   "id": "755d2e41-faa3-4d4e-8092-370397d3d226",
   "metadata": {},
   "source": [
    "## Day Eleven (Part 2)\n",
    "\n",
    "Exactly as above. Just blink 75 times. I dread running out of memory. I did. I ran out of memory.\n",
    "NEW APPROACH is to keep a dictionary of how every number is handled and then recurse down so it doesn't need to do the whole process each time if I've already got the number of blinks for that specific number in the dictionary (which should be common since 0 -> 1 -> 2024 etc etc, every 0 or 1 follows a very set path)"
   ]
  },
  {
   "cell_type": "code",
   "execution_count": 8,
   "id": "419ab7a2-378e-485c-83a0-5c8968ed9fbe",
   "metadata": {},
   "outputs": [
    {
     "name": "stdout",
     "output_type": "stream",
     "text": [
      "276661131175807\n"
     ]
    }
   ],
   "source": [
    "file_path = 'C:\\\\Users\\\\jackb\\\\OneDrive\\\\Documents\\\\Python Scripts\\\\Advent of Code\\\\Raw Data\\\\AdventDayElevenRaw.txt'\n",
    "\n",
    "data = open(file_path).read().split()\n",
    "memory = {}\n",
    "\n",
    "# Define a function that takes a string input and imagines you blink once, applying the rules one time.\n",
    "# Due to possible stone splitting, this function has the following properties: Input - string, Output - list of strings\n",
    "def countStones(string, blinks):\n",
    "    if blinks == 0:\n",
    "        return 1\n",
    "    elif (string, blinks) in memory:\n",
    "        return memory[(string, blinks)]\n",
    "    elif string == \"0\":\n",
    "        value = countStones(\"1\", blinks - 1)\n",
    "    elif len(string)%2 == 0:\n",
    "        middle = len(string)//2\n",
    "        # Remove leading zeros\n",
    "        left = int(string[:middle])\n",
    "        right = int(string[middle:])\n",
    "        value = countStones(str(left), blinks - 1) + countStones(str(right), blinks - 1)\n",
    "    else:\n",
    "        value = countStones(str(int(string) * 2024), blinks - 1)\n",
    "    memory[(string, blinks)] = value\n",
    "    return value\n",
    "\n",
    "# Solve the problem\n",
    "totalStones = 0\n",
    "for entry in data:\n",
    "    totalStones += countStones(entry, 75)\n",
    "print(totalStones)\n"
   ]
  },
  {
   "cell_type": "markdown",
   "id": "aa415ad8-345b-4d6f-ae93-965efed25bf8",
   "metadata": {},
   "source": [
    "## Day Twelve (Part 1)\n",
    "\n",
    "Given a grid of letters (which represent garden plots), work out the cost of fencing each region. A region is an area where each plot is of the same letter and touching, either left right up or down. The fencing cost of an area is the perimeter multiplied by the area. Intuition is to find the region and slowly compile into a list and keep track of a perimeter variable as each node of a region is found by checking the surrounding nodes. Iterating this function over the full grid should provide what is needed."
   ]
  },
  {
   "cell_type": "code",
   "execution_count": 26,
   "id": "0a4fe8ac-d400-42c7-a085-fd83dea8d565",
   "metadata": {},
   "outputs": [
    {
     "name": "stdout",
     "output_type": "stream",
     "text": [
      "1381056\n"
     ]
    }
   ],
   "source": [
    "file_path = 'C:\\\\Users\\\\jackb\\\\OneDrive\\\\Documents\\\\Python Scripts\\\\Advent of Code\\\\Raw Data\\\\AdventDayTwelveRaw.txt'\n",
    "\n",
    "data = open(file_path).read().splitlines()\n",
    "\n",
    "directions = [[0,1], [1,0], [0,-1], [-1,0]]\n",
    "\n",
    "# Define a function to return the full connected region when supplied with a single grid co-ordinate.\n",
    "# This function also returns the perimeter of the region. Format of return - List, value\n",
    "# Tested on test case provided - success.\n",
    "def getRegion(node):\n",
    "    x, y = node\n",
    "    nodeVal = data[x][y]\n",
    "    perimeter = 0\n",
    "    region = [node]\n",
    "    queue = [node]\n",
    "    while queue != []:\n",
    "        newQueue = []\n",
    "        for _ in range(len(queue)):\n",
    "            entry = queue.pop(0)\n",
    "            x, y = entry\n",
    "            for dir in directions:\n",
    "                newX = x + dir[0]\n",
    "                newY = y + dir[1]\n",
    "                try:\n",
    "                    if data[newX][newY] == nodeVal and newX > -1 and newY > -1:\n",
    "                        if [newX, newY] not in region:\n",
    "                            newQueue.append([newX, newY])\n",
    "                            region.append([newX, newY])\n",
    "                        else:\n",
    "                            continue\n",
    "                    else:\n",
    "                        perimeter += 1\n",
    "                except:\n",
    "                    perimeter += 1\n",
    "        queue = newQueue\n",
    "    return region, perimeter\n",
    "\n",
    "# Keep track of all regions visited and then run functions on any new ones to receive sum of perimeter * area\n",
    "totalCost = 0\n",
    "visited = []\n",
    "for i in range(len(data)):\n",
    "    for j in range(len(data[0])):\n",
    "        if [i, j] not in visited:\n",
    "            region, perimeter = getRegion([i,j])\n",
    "            for entry in region:\n",
    "                visited.append(entry)\n",
    "            totalCost += (perimeter * len(region))\n",
    "print(totalCost)"
   ]
  },
  {
   "cell_type": "markdown",
   "id": "d32deb3c-c802-459f-986d-91937215c87b",
   "metadata": {},
   "source": [
    "## Day Twelve (Part 2)\n",
    "\n",
    "This requirement is the same as part 1, except for the fence cost is the Area * Number Of Sides instead of Area * Perimeter. This feels a lot more complex to me so I'm going to see how other people have found clever solutions later and not attempt this one myself as I believe we're getting to the harder stages now (maybe a bit beyond me at this time)."
   ]
  },
  {
   "cell_type": "code",
   "execution_count": null,
   "id": "01d72c88-0a96-4264-8070-bbf58c806f6c",
   "metadata": {},
   "outputs": [],
   "source": []
  }
 ],
 "metadata": {
  "kernelspec": {
   "display_name": "Python 3 (ipykernel)",
   "language": "python",
   "name": "python3"
  },
  "language_info": {
   "codemirror_mode": {
    "name": "ipython",
    "version": 3
   },
   "file_extension": ".py",
   "mimetype": "text/x-python",
   "name": "python",
   "nbconvert_exporter": "python",
   "pygments_lexer": "ipython3",
   "version": "3.12.4"
  }
 },
 "nbformat": 4,
 "nbformat_minor": 5
}
